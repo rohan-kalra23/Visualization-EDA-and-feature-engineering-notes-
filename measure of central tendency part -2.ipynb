{
 "cells": [
  {
   "cell_type": "markdown",
   "id": "a5b88a1b",
   "metadata": {},
   "source": [
    "# measure of central tendency -->>"
   ]
  },
  {
   "cell_type": "markdown",
   "id": "e15a345e",
   "metadata": {},
   "source": [
    "Mean"
   ]
  },
  {
   "cell_type": "code",
   "execution_count": 1,
   "id": "1e59f158",
   "metadata": {},
   "outputs": [],
   "source": [
    "ages =[12,13,14,21,24]"
   ]
  },
  {
   "cell_type": "code",
   "execution_count": 2,
   "id": "8535771c",
   "metadata": {},
   "outputs": [
    {
     "data": {
      "text/plain": [
       "16.8"
      ]
     },
     "execution_count": 2,
     "metadata": {},
     "output_type": "execute_result"
    }
   ],
   "source": [
    "(12+13+14+21+24)/5"
   ]
  },
  {
   "cell_type": "code",
   "execution_count": 3,
   "id": "9aff12e4",
   "metadata": {},
   "outputs": [],
   "source": [
    "import numpy as np "
   ]
  },
  {
   "cell_type": "code",
   "execution_count": 6,
   "id": "4ae6bd68",
   "metadata": {},
   "outputs": [
    {
     "data": {
      "text/plain": [
       "16.8"
      ]
     },
     "execution_count": 6,
     "metadata": {},
     "output_type": "execute_result"
    }
   ],
   "source": [
    "np.mean(ages) # another way of finding the mean "
   ]
  },
  {
   "cell_type": "code",
   "execution_count": 7,
   "id": "86d4dc6d",
   "metadata": {},
   "outputs": [],
   "source": [
    "weights = [23,23,55,35,66,47,45,24,87,76]"
   ]
  },
  {
   "cell_type": "code",
   "execution_count": 8,
   "id": "b32509a6",
   "metadata": {},
   "outputs": [
    {
     "data": {
      "text/plain": [
       "48.1"
      ]
     },
     "execution_count": 8,
     "metadata": {},
     "output_type": "execute_result"
    }
   ],
   "source": [
    "np.mean(weights)"
   ]
  },
  {
   "cell_type": "code",
   "execution_count": 9,
   "id": "48f174a9",
   "metadata": {},
   "outputs": [],
   "source": [
    "weights = [23,23,55,35,66,47,45,24,87,76 , 1000]"
   ]
  },
  {
   "cell_type": "code",
   "execution_count": 10,
   "id": "f42bbec8",
   "metadata": {},
   "outputs": [
    {
     "data": {
      "text/plain": [
       "134.63636363636363"
      ]
     },
     "execution_count": 10,
     "metadata": {},
     "output_type": "execute_result"
    }
   ],
   "source": [
    "np.mean(weights) ## due to one outlier mean is getting change drastically"
   ]
  },
  {
   "cell_type": "code",
   "execution_count": 11,
   "id": "8663dbd2",
   "metadata": {},
   "outputs": [
    {
     "data": {
      "text/plain": [
       "47.0"
      ]
     },
     "execution_count": 11,
     "metadata": {},
     "output_type": "execute_result"
    }
   ],
   "source": [
    "np.median(weights) # tell us outlier is present here in weights "
   ]
  },
  {
   "cell_type": "code",
   "execution_count": 12,
   "id": "76791497",
   "metadata": {},
   "outputs": [],
   "source": [
    "## mode \n",
    "# in numpy we dont have mode \n",
    "from scipy import stats "
   ]
  },
  {
   "cell_type": "code",
   "execution_count": 13,
   "id": "938b86d1",
   "metadata": {},
   "outputs": [
    {
     "name": "stderr",
     "output_type": "stream",
     "text": [
      "C:\\Users\\hp\\AppData\\Local\\Temp\\ipykernel_7008\\4197893964.py:1: FutureWarning: Unlike other reduction functions (e.g. `skew`, `kurtosis`), the default behavior of `mode` typically preserves the axis it acts along. In SciPy 1.11.0, this behavior will change: the default value of `keepdims` will become False, the `axis` over which the statistic is taken will be eliminated, and the value None will no longer be accepted. Set `keepdims` to True or False to avoid this warning.\n",
      "  stats.mode(weights)\n"
     ]
    },
    {
     "data": {
      "text/plain": [
       "ModeResult(mode=array([23]), count=array([2]))"
      ]
     },
     "execution_count": 13,
     "metadata": {},
     "output_type": "execute_result"
    }
   ],
   "source": [
    "stats.mode(weights) # ignore the warning "
   ]
  },
  {
   "cell_type": "code",
   "execution_count": null,
   "id": "74232ec2",
   "metadata": {},
   "outputs": [],
   "source": []
  }
 ],
 "metadata": {
  "kernelspec": {
   "display_name": "Python 3 (ipykernel)",
   "language": "python",
   "name": "python3"
  },
  "language_info": {
   "codemirror_mode": {
    "name": "ipython",
    "version": 3
   },
   "file_extension": ".py",
   "mimetype": "text/x-python",
   "name": "python",
   "nbconvert_exporter": "python",
   "pygments_lexer": "ipython3",
   "version": "3.11.3"
  }
 },
 "nbformat": 4,
 "nbformat_minor": 5
}
